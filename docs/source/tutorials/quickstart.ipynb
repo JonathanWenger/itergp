{
 "cells": [
  {
   "cell_type": "markdown",
   "metadata": {},
   "source": [
    "# Quickstart\n",
    "\n",
    "Learn how to use IterGP with this basic tutorial."
   ]
  },
  {
   "cell_type": "code",
   "execution_count": 1,
   "metadata": {},
   "outputs": [],
   "source": [
    "import matplotlib.pyplot as plt\n",
    "\n",
    "%matplotlib inline"
   ]
  },
  {
   "cell_type": "markdown",
   "metadata": {},
   "source": [
    "## Dataset\n",
    "\n",
    "You can load datasets directly via the API."
   ]
  },
  {
   "cell_type": "code",
   "execution_count": 2,
   "metadata": {},
   "outputs": [
    {
     "name": "stdout",
     "output_type": "stream",
     "text": [
      "[KeOps] Warning : Cuda libraries were not detected on the system ; using cpu only mode\n"
     ]
    }
   ],
   "source": [
    "from probnum import backend\n",
    "\n",
    "from itergp import datasets\n",
    "\n",
    "# Generate data\n",
    "rng_state = backend.random.rng_state(42)\n",
    "\n",
    "num_data = 10\n",
    "input_shape = ()\n",
    "output_shape = ()\n",
    "\n",
    "rng_state, rng_state_data = backend.random.split(rng_state, num=2)\n",
    "data = datasets.SyntheticDataset(\n",
    "    rng_state=rng_state,\n",
    "    size=(num_data, num_data),\n",
    "    input_shape=input_shape,\n",
    "    output_shape=output_shape,\n",
    "    noise_var=0.1,\n",
    ")\n",
    "X = data.train.X\n",
    "y = data.train.y"
   ]
  },
  {
   "cell_type": "markdown",
   "metadata": {},
   "source": [
    "## Gaussian Process Model\n",
    "\n",
    "Let's define a simple Gaussian process model $GP(\\mu, k)$ with a Matern kernel."
   ]
  },
  {
   "cell_type": "code",
   "execution_count": 3,
   "metadata": {},
   "outputs": [],
   "source": [
    "from probnum import linops, randvars\n",
    "from probnum.randprocs import kernels, mean_fns\n",
    "\n",
    "from itergp import GaussianProcess\n",
    "\n",
    "# Model\n",
    "mean_fn = mean_fns.Zero(input_shape=input_shape, output_shape=output_shape)\n",
    "kernel = kernels.Matern(input_shape=input_shape, nu=1.5, lengthscale=0.15)\n",
    "gp = GaussianProcess(mean_fn, kernel)\n",
    "\n",
    "# Likelihood\n",
    "sigma_sq = 0.1\n",
    "noise = randvars.Normal(\n",
    "    mean=backend.zeros(y.shape),\n",
    "    cov=linops.Scaling(sigma_sq, shape=(num_data, num_data)),\n",
    ")"
   ]
  },
  {
   "cell_type": "markdown",
   "metadata": {},
   "source": [
    "## Approximation Method\n",
    "\n",
    "Next, we choose the variant of IterGP we want to use."
   ]
  },
  {
   "cell_type": "code",
   "execution_count": 7,
   "metadata": {},
   "outputs": [],
   "source": [
    "from itergp import methods\n",
    "\n",
    "itergp_cg = methods.CG(maxiter=4)"
   ]
  },
  {
   "cell_type": "markdown",
   "metadata": {},
   "source": [
    "## Prediction\n",
    "\n",
    "Finally, we can condition our prior on the data using the approximation method we selected."
   ]
  },
  {
   "cell_type": "code",
   "execution_count": 8,
   "metadata": {},
   "outputs": [],
   "source": [
    "gp_post = gp.condition_on_data(X, y, b=noise, approx_method=itergp_cg)"
   ]
  },
  {
   "cell_type": "code",
   "execution_count": 9,
   "metadata": {},
   "outputs": [
    {
     "data": {
      "image/png": "[encoded data removed]",
      "text/plain": [
       "<Figure size 432x216 with 1 Axes>"
      ]
     },
     "metadata": {
      "needs_background": "light"
     },
     "output_type": "display_data"
    }
   ],
   "source": [
    "Xnew = backend.linspace(-1.5, 1.5, 1000)\n",
    "fig, ax = plt.subplots(figsize=(6, 3))\n",
    "gp_post.plot(Xnew, data=(X, y), ax=ax)\n",
    "plt.show()"
   ]
  },
  {
   "cell_type": "code",
   "execution_count": null,
   "metadata": {},
   "outputs": [],
   "source": []
  }
 ],
 "metadata": {
  "interpreter": {
   "hash": "7befea1d94ffac28e672af23624f9df2627dd29dfa9f71f286e0c027b560ee3c"
  },
  "kernelspec": {
   "display_name": "Python 3.8.10 ('itergp')",
   "language": "python",
   "name": "python3"
  },
  "language_info": {
   "codemirror_mode": {
    "name": "ipython",
    "version": 3
   },
   "file_extension": ".py",
   "mimetype": "text/x-python",
   "name": "python",
   "nbconvert_exporter": "python",
   "pygments_lexer": "ipython3",
   "version": "3.8.10"
  },
  "orig_nbformat": 4
 },
 "nbformat": 4,
 "nbformat_minor": 2
}
